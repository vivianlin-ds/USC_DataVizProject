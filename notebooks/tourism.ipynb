{
 "cells": [
  {
   "cell_type": "markdown",
   "metadata": {},
   "source": [
    "## Page 2: Tourism, only need the tourism_arrival and tourism_departures"
   ]
  },
  {
   "cell_type": "code",
   "execution_count": 38,
   "metadata": {},
   "outputs": [],
   "source": [
    "import pandas as pd\n",
    "# !pip3 install pycountry_convert\n",
    "import pycountry\n",
    "import pycountry_convert as pc"
   ]
  },
  {
   "cell_type": "code",
   "execution_count": 39,
   "metadata": {},
   "outputs": [
    {
     "name": "stdout",
     "output_type": "stream",
     "text": [
      "(266, 27) (266, 27)\n"
     ]
    }
   ],
   "source": [
    "years = [str(i) for i in range(1995, 2021)]\n",
    "years.append('Country Name')\n",
    "arrival = pd.read_csv('data/tourism/tourism_arrivals.csv', usecols=years, skiprows=4)\n",
    "depart = pd.read_csv('data/tourism/tourism_departures.csv', usecols=years, skiprows=4)\n",
    "print(arrival.shape, depart.shape)"
   ]
  },
  {
   "cell_type": "code",
   "execution_count": 40,
   "metadata": {},
   "outputs": [
    {
     "data": {
      "text/plain": [
       "Index(['Country Name', '1995', '1996', '1997', '1998', '1999', '2000', '2001',\n",
       "       '2002', '2003', '2004', '2005', '2006', '2007', '2008', '2009', '2010',\n",
       "       '2011', '2012', '2013', '2014', '2015', '2016', '2017', '2018', '2019',\n",
       "       '2020'],\n",
       "      dtype='object')"
      ]
     },
     "execution_count": 40,
     "metadata": {},
     "output_type": "execute_result"
    }
   ],
   "source": [
    "arrival.columns"
   ]
  },
  {
   "cell_type": "code",
   "execution_count": 41,
   "metadata": {},
   "outputs": [
    {
     "name": "stdout",
     "output_type": "stream",
     "text": [
      "(6916, 3) (6916, 3)\n"
     ]
    }
   ],
   "source": [
    "# Melt the DataFrame to have years in rows\n",
    "melted_arrival = pd.melt(arrival, id_vars=['Country Name'], var_name='Year', value_name='Arrivals')\n",
    "melted_depart = pd.melt(depart, id_vars=['Country Name'], var_name='Year', value_name='Departures')\n",
    "print(melted_arrival.shape, melted_depart.shape)"
   ]
  },
  {
   "cell_type": "code",
   "execution_count": 42,
   "metadata": {},
   "outputs": [
    {
     "data": {
      "text/html": [
       "<div>\n",
       "<style scoped>\n",
       "    .dataframe tbody tr th:only-of-type {\n",
       "        vertical-align: middle;\n",
       "    }\n",
       "\n",
       "    .dataframe tbody tr th {\n",
       "        vertical-align: top;\n",
       "    }\n",
       "\n",
       "    .dataframe thead th {\n",
       "        text-align: right;\n",
       "    }\n",
       "</style>\n",
       "<table border=\"1\" class=\"dataframe\">\n",
       "  <thead>\n",
       "    <tr style=\"text-align: right;\">\n",
       "      <th></th>\n",
       "      <th>Country Name</th>\n",
       "      <th>Year</th>\n",
       "      <th>Arrivals</th>\n",
       "    </tr>\n",
       "  </thead>\n",
       "  <tbody>\n",
       "    <tr>\n",
       "      <th>0</th>\n",
       "      <td>Aruba</td>\n",
       "      <td>1995</td>\n",
       "      <td>9.120000e+05</td>\n",
       "    </tr>\n",
       "    <tr>\n",
       "      <th>1</th>\n",
       "      <td>Africa Eastern and Southern</td>\n",
       "      <td>1995</td>\n",
       "      <td>1.158354e+07</td>\n",
       "    </tr>\n",
       "    <tr>\n",
       "      <th>2</th>\n",
       "      <td>Afghanistan</td>\n",
       "      <td>1995</td>\n",
       "      <td>NaN</td>\n",
       "    </tr>\n",
       "    <tr>\n",
       "      <th>3</th>\n",
       "      <td>Africa Western and Central</td>\n",
       "      <td>1995</td>\n",
       "      <td>2.670706e+06</td>\n",
       "    </tr>\n",
       "    <tr>\n",
       "      <th>4</th>\n",
       "      <td>Angola</td>\n",
       "      <td>1995</td>\n",
       "      <td>9.000000e+03</td>\n",
       "    </tr>\n",
       "  </tbody>\n",
       "</table>\n",
       "</div>"
      ],
      "text/plain": [
       "                  Country Name  Year      Arrivals\n",
       "0                        Aruba  1995  9.120000e+05\n",
       "1  Africa Eastern and Southern  1995  1.158354e+07\n",
       "2                  Afghanistan  1995           NaN\n",
       "3   Africa Western and Central  1995  2.670706e+06\n",
       "4                       Angola  1995  9.000000e+03"
      ]
     },
     "execution_count": 42,
     "metadata": {},
     "output_type": "execute_result"
    }
   ],
   "source": [
    "melted_arrival.head()"
   ]
  },
  {
   "cell_type": "code",
   "execution_count": 43,
   "metadata": {},
   "outputs": [
    {
     "data": {
      "text/html": [
       "<div>\n",
       "<style scoped>\n",
       "    .dataframe tbody tr th:only-of-type {\n",
       "        vertical-align: middle;\n",
       "    }\n",
       "\n",
       "    .dataframe tbody tr th {\n",
       "        vertical-align: top;\n",
       "    }\n",
       "\n",
       "    .dataframe thead th {\n",
       "        text-align: right;\n",
       "    }\n",
       "</style>\n",
       "<table border=\"1\" class=\"dataframe\">\n",
       "  <thead>\n",
       "    <tr style=\"text-align: right;\">\n",
       "      <th></th>\n",
       "      <th>Country Name</th>\n",
       "      <th>Year</th>\n",
       "      <th>Departures</th>\n",
       "    </tr>\n",
       "  </thead>\n",
       "  <tbody>\n",
       "    <tr>\n",
       "      <th>0</th>\n",
       "      <td>Aruba</td>\n",
       "      <td>1995</td>\n",
       "      <td>NaN</td>\n",
       "    </tr>\n",
       "    <tr>\n",
       "      <th>1</th>\n",
       "      <td>Africa Eastern and Southern</td>\n",
       "      <td>1995</td>\n",
       "      <td>NaN</td>\n",
       "    </tr>\n",
       "    <tr>\n",
       "      <th>2</th>\n",
       "      <td>Afghanistan</td>\n",
       "      <td>1995</td>\n",
       "      <td>NaN</td>\n",
       "    </tr>\n",
       "    <tr>\n",
       "      <th>3</th>\n",
       "      <td>Africa Western and Central</td>\n",
       "      <td>1995</td>\n",
       "      <td>NaN</td>\n",
       "    </tr>\n",
       "    <tr>\n",
       "      <th>4</th>\n",
       "      <td>Angola</td>\n",
       "      <td>1995</td>\n",
       "      <td>3000.0</td>\n",
       "    </tr>\n",
       "  </tbody>\n",
       "</table>\n",
       "</div>"
      ],
      "text/plain": [
       "                  Country Name  Year  Departures\n",
       "0                        Aruba  1995         NaN\n",
       "1  Africa Eastern and Southern  1995         NaN\n",
       "2                  Afghanistan  1995         NaN\n",
       "3   Africa Western and Central  1995         NaN\n",
       "4                       Angola  1995      3000.0"
      ]
     },
     "execution_count": 43,
     "metadata": {},
     "output_type": "execute_result"
    }
   ],
   "source": [
    "melted_depart.head()"
   ]
  },
  {
   "cell_type": "code",
   "execution_count": 44,
   "metadata": {},
   "outputs": [
    {
     "data": {
      "text/plain": [
       "(6916, 4)"
      ]
     },
     "execution_count": 44,
     "metadata": {},
     "output_type": "execute_result"
    }
   ],
   "source": [
    "arr_depart = melted_arrival.merge(melted_depart)\n",
    "arr_depart.shape"
   ]
  },
  {
   "cell_type": "code",
   "execution_count": 45,
   "metadata": {},
   "outputs": [
    {
     "data": {
      "text/html": [
       "<div>\n",
       "<style scoped>\n",
       "    .dataframe tbody tr th:only-of-type {\n",
       "        vertical-align: middle;\n",
       "    }\n",
       "\n",
       "    .dataframe tbody tr th {\n",
       "        vertical-align: top;\n",
       "    }\n",
       "\n",
       "    .dataframe thead th {\n",
       "        text-align: right;\n",
       "    }\n",
       "</style>\n",
       "<table border=\"1\" class=\"dataframe\">\n",
       "  <thead>\n",
       "    <tr style=\"text-align: right;\">\n",
       "      <th></th>\n",
       "      <th>Country Name</th>\n",
       "      <th>Year</th>\n",
       "      <th>Arrivals</th>\n",
       "      <th>Departures</th>\n",
       "    </tr>\n",
       "  </thead>\n",
       "  <tbody>\n",
       "    <tr>\n",
       "      <th>0</th>\n",
       "      <td>Aruba</td>\n",
       "      <td>1995</td>\n",
       "      <td>9.120000e+05</td>\n",
       "      <td>NaN</td>\n",
       "    </tr>\n",
       "    <tr>\n",
       "      <th>1</th>\n",
       "      <td>Africa Eastern and Southern</td>\n",
       "      <td>1995</td>\n",
       "      <td>1.158354e+07</td>\n",
       "      <td>NaN</td>\n",
       "    </tr>\n",
       "    <tr>\n",
       "      <th>2</th>\n",
       "      <td>Afghanistan</td>\n",
       "      <td>1995</td>\n",
       "      <td>NaN</td>\n",
       "      <td>NaN</td>\n",
       "    </tr>\n",
       "    <tr>\n",
       "      <th>3</th>\n",
       "      <td>Africa Western and Central</td>\n",
       "      <td>1995</td>\n",
       "      <td>2.670706e+06</td>\n",
       "      <td>NaN</td>\n",
       "    </tr>\n",
       "    <tr>\n",
       "      <th>4</th>\n",
       "      <td>Angola</td>\n",
       "      <td>1995</td>\n",
       "      <td>9.000000e+03</td>\n",
       "      <td>3000.0</td>\n",
       "    </tr>\n",
       "  </tbody>\n",
       "</table>\n",
       "</div>"
      ],
      "text/plain": [
       "                  Country Name  Year      Arrivals  Departures\n",
       "0                        Aruba  1995  9.120000e+05         NaN\n",
       "1  Africa Eastern and Southern  1995  1.158354e+07         NaN\n",
       "2                  Afghanistan  1995           NaN         NaN\n",
       "3   Africa Western and Central  1995  2.670706e+06         NaN\n",
       "4                       Angola  1995  9.000000e+03      3000.0"
      ]
     },
     "execution_count": 45,
     "metadata": {},
     "output_type": "execute_result"
    }
   ],
   "source": [
    "arr_depart.head()"
   ]
  },
  {
   "cell_type": "markdown",
   "metadata": {},
   "source": [
    "Append the country codes back into the dataframe for easier country identification"
   ]
  },
  {
   "cell_type": "code",
   "execution_count": 46,
   "metadata": {},
   "outputs": [
    {
     "data": {
      "text/plain": [
       "(266, 2)"
      ]
     },
     "execution_count": 46,
     "metadata": {},
     "output_type": "execute_result"
    }
   ],
   "source": [
    "country_code = pd.read_csv('data/tourism/tourism_arrivals.csv', usecols=['Country Name', 'Country Code'], skiprows=4)\n",
    "country_code.shape"
   ]
  },
  {
   "cell_type": "code",
   "execution_count": 47,
   "metadata": {},
   "outputs": [
    {
     "data": {
      "text/html": [
       "<div>\n",
       "<style scoped>\n",
       "    .dataframe tbody tr th:only-of-type {\n",
       "        vertical-align: middle;\n",
       "    }\n",
       "\n",
       "    .dataframe tbody tr th {\n",
       "        vertical-align: top;\n",
       "    }\n",
       "\n",
       "    .dataframe thead th {\n",
       "        text-align: right;\n",
       "    }\n",
       "</style>\n",
       "<table border=\"1\" class=\"dataframe\">\n",
       "  <thead>\n",
       "    <tr style=\"text-align: right;\">\n",
       "      <th></th>\n",
       "      <th>Country Name</th>\n",
       "      <th>Year</th>\n",
       "      <th>Arrivals</th>\n",
       "      <th>Departures</th>\n",
       "      <th>Country Code</th>\n",
       "    </tr>\n",
       "  </thead>\n",
       "  <tbody>\n",
       "    <tr>\n",
       "      <th>0</th>\n",
       "      <td>Aruba</td>\n",
       "      <td>1995</td>\n",
       "      <td>9.120000e+05</td>\n",
       "      <td>NaN</td>\n",
       "      <td>ABW</td>\n",
       "    </tr>\n",
       "    <tr>\n",
       "      <th>1</th>\n",
       "      <td>Africa Eastern and Southern</td>\n",
       "      <td>1995</td>\n",
       "      <td>1.158354e+07</td>\n",
       "      <td>NaN</td>\n",
       "      <td>AFE</td>\n",
       "    </tr>\n",
       "    <tr>\n",
       "      <th>2</th>\n",
       "      <td>Afghanistan</td>\n",
       "      <td>1995</td>\n",
       "      <td>NaN</td>\n",
       "      <td>NaN</td>\n",
       "      <td>AFG</td>\n",
       "    </tr>\n",
       "    <tr>\n",
       "      <th>3</th>\n",
       "      <td>Africa Western and Central</td>\n",
       "      <td>1995</td>\n",
       "      <td>2.670706e+06</td>\n",
       "      <td>NaN</td>\n",
       "      <td>AFW</td>\n",
       "    </tr>\n",
       "    <tr>\n",
       "      <th>4</th>\n",
       "      <td>Angola</td>\n",
       "      <td>1995</td>\n",
       "      <td>9.000000e+03</td>\n",
       "      <td>3000.0</td>\n",
       "      <td>AGO</td>\n",
       "    </tr>\n",
       "  </tbody>\n",
       "</table>\n",
       "</div>"
      ],
      "text/plain": [
       "                  Country Name  Year      Arrivals  Departures Country Code\n",
       "0                        Aruba  1995  9.120000e+05         NaN          ABW\n",
       "1  Africa Eastern and Southern  1995  1.158354e+07         NaN          AFE\n",
       "2                  Afghanistan  1995           NaN         NaN          AFG\n",
       "3   Africa Western and Central  1995  2.670706e+06         NaN          AFW\n",
       "4                       Angola  1995  9.000000e+03      3000.0          AGO"
      ]
     },
     "execution_count": 47,
     "metadata": {},
     "output_type": "execute_result"
    }
   ],
   "source": [
    "arr_depart = pd.merge(arr_depart, country_code, how='left')\n",
    "arr_depart.head()"
   ]
  },
  {
   "cell_type": "markdown",
   "metadata": {},
   "source": [
    "Calculate Departure / Arrival ratio for choropleth visualization"
   ]
  },
  {
   "cell_type": "code",
   "execution_count": 48,
   "metadata": {},
   "outputs": [
    {
     "data": {
      "text/html": [
       "<div>\n",
       "<style scoped>\n",
       "    .dataframe tbody tr th:only-of-type {\n",
       "        vertical-align: middle;\n",
       "    }\n",
       "\n",
       "    .dataframe tbody tr th {\n",
       "        vertical-align: top;\n",
       "    }\n",
       "\n",
       "    .dataframe thead th {\n",
       "        text-align: right;\n",
       "    }\n",
       "</style>\n",
       "<table border=\"1\" class=\"dataframe\">\n",
       "  <thead>\n",
       "    <tr style=\"text-align: right;\">\n",
       "      <th></th>\n",
       "      <th>Country</th>\n",
       "      <th>Year</th>\n",
       "      <th>Arrivals</th>\n",
       "      <th>Departures</th>\n",
       "      <th>Country_code</th>\n",
       "      <th>DA_Ratio</th>\n",
       "    </tr>\n",
       "  </thead>\n",
       "  <tbody>\n",
       "    <tr>\n",
       "      <th>0</th>\n",
       "      <td>Aruba</td>\n",
       "      <td>1995</td>\n",
       "      <td>9.120000e+05</td>\n",
       "      <td>NaN</td>\n",
       "      <td>ABW</td>\n",
       "      <td>NaN</td>\n",
       "    </tr>\n",
       "    <tr>\n",
       "      <th>1</th>\n",
       "      <td>Africa Eastern and Southern</td>\n",
       "      <td>1995</td>\n",
       "      <td>1.158354e+07</td>\n",
       "      <td>NaN</td>\n",
       "      <td>AFE</td>\n",
       "      <td>NaN</td>\n",
       "    </tr>\n",
       "    <tr>\n",
       "      <th>2</th>\n",
       "      <td>Afghanistan</td>\n",
       "      <td>1995</td>\n",
       "      <td>NaN</td>\n",
       "      <td>NaN</td>\n",
       "      <td>AFG</td>\n",
       "      <td>NaN</td>\n",
       "    </tr>\n",
       "    <tr>\n",
       "      <th>3</th>\n",
       "      <td>Africa Western and Central</td>\n",
       "      <td>1995</td>\n",
       "      <td>2.670706e+06</td>\n",
       "      <td>NaN</td>\n",
       "      <td>AFW</td>\n",
       "      <td>NaN</td>\n",
       "    </tr>\n",
       "    <tr>\n",
       "      <th>4</th>\n",
       "      <td>Angola</td>\n",
       "      <td>1995</td>\n",
       "      <td>9.000000e+03</td>\n",
       "      <td>3000.0</td>\n",
       "      <td>AGO</td>\n",
       "      <td>0.333333</td>\n",
       "    </tr>\n",
       "  </tbody>\n",
       "</table>\n",
       "</div>"
      ],
      "text/plain": [
       "                       Country  Year      Arrivals  Departures Country_code  \\\n",
       "0                        Aruba  1995  9.120000e+05         NaN          ABW   \n",
       "1  Africa Eastern and Southern  1995  1.158354e+07         NaN          AFE   \n",
       "2                  Afghanistan  1995           NaN         NaN          AFG   \n",
       "3   Africa Western and Central  1995  2.670706e+06         NaN          AFW   \n",
       "4                       Angola  1995  9.000000e+03      3000.0          AGO   \n",
       "\n",
       "   DA_Ratio  \n",
       "0       NaN  \n",
       "1       NaN  \n",
       "2       NaN  \n",
       "3       NaN  \n",
       "4  0.333333  "
      ]
     },
     "execution_count": 48,
     "metadata": {},
     "output_type": "execute_result"
    }
   ],
   "source": [
    "arr_depart['DA_Ratio'] = arr_depart['Departures'] / arr_depart['Arrivals']\n",
    "arr_depart.rename(columns={'Country Name': 'Country', 'Country Code': 'Country_code'}, inplace=True)\n",
    "arr_depart.head()"
   ]
  },
  {
   "cell_type": "markdown",
   "metadata": {},
   "source": [
    "Get the continent information so that we can categorize countries in continents."
   ]
  },
  {
   "cell_type": "code",
   "execution_count": 49,
   "metadata": {},
   "outputs": [],
   "source": [
    "def get_continent(country_code):\n",
    "    try:\n",
    "        country_alpha2 = pc.country_alpha3_to_country_alpha2(country_code)\n",
    "        country_continent_code = pc.country_alpha2_to_continent_code(country_alpha2)\n",
    "        country_continent_name = pc.convert_continent_code_to_continent_name(country_continent_code)\n",
    "        return country_continent_name\n",
    "    except KeyError:\n",
    "        return None"
   ]
  },
  {
   "cell_type": "code",
   "execution_count": 50,
   "metadata": {},
   "outputs": [],
   "source": [
    "arr_depart['Continent'] = arr_depart['Country_code'].apply(get_continent)"
   ]
  },
  {
   "cell_type": "code",
   "execution_count": 51,
   "metadata": {},
   "outputs": [
    {
     "data": {
      "text/html": [
       "<div>\n",
       "<style scoped>\n",
       "    .dataframe tbody tr th:only-of-type {\n",
       "        vertical-align: middle;\n",
       "    }\n",
       "\n",
       "    .dataframe tbody tr th {\n",
       "        vertical-align: top;\n",
       "    }\n",
       "\n",
       "    .dataframe thead th {\n",
       "        text-align: right;\n",
       "    }\n",
       "</style>\n",
       "<table border=\"1\" class=\"dataframe\">\n",
       "  <thead>\n",
       "    <tr style=\"text-align: right;\">\n",
       "      <th></th>\n",
       "      <th>Country</th>\n",
       "      <th>Year</th>\n",
       "      <th>Arrivals</th>\n",
       "      <th>Departures</th>\n",
       "      <th>Country_code</th>\n",
       "      <th>DA_Ratio</th>\n",
       "      <th>Continent</th>\n",
       "    </tr>\n",
       "  </thead>\n",
       "  <tbody>\n",
       "    <tr>\n",
       "      <th>0</th>\n",
       "      <td>Aruba</td>\n",
       "      <td>1995</td>\n",
       "      <td>9.120000e+05</td>\n",
       "      <td>NaN</td>\n",
       "      <td>ABW</td>\n",
       "      <td>NaN</td>\n",
       "      <td>North America</td>\n",
       "    </tr>\n",
       "    <tr>\n",
       "      <th>1</th>\n",
       "      <td>Africa Eastern and Southern</td>\n",
       "      <td>1995</td>\n",
       "      <td>1.158354e+07</td>\n",
       "      <td>NaN</td>\n",
       "      <td>AFE</td>\n",
       "      <td>NaN</td>\n",
       "      <td>None</td>\n",
       "    </tr>\n",
       "    <tr>\n",
       "      <th>2</th>\n",
       "      <td>Afghanistan</td>\n",
       "      <td>1995</td>\n",
       "      <td>NaN</td>\n",
       "      <td>NaN</td>\n",
       "      <td>AFG</td>\n",
       "      <td>NaN</td>\n",
       "      <td>Asia</td>\n",
       "    </tr>\n",
       "    <tr>\n",
       "      <th>3</th>\n",
       "      <td>Africa Western and Central</td>\n",
       "      <td>1995</td>\n",
       "      <td>2.670706e+06</td>\n",
       "      <td>NaN</td>\n",
       "      <td>AFW</td>\n",
       "      <td>NaN</td>\n",
       "      <td>None</td>\n",
       "    </tr>\n",
       "    <tr>\n",
       "      <th>4</th>\n",
       "      <td>Angola</td>\n",
       "      <td>1995</td>\n",
       "      <td>9.000000e+03</td>\n",
       "      <td>3000.0</td>\n",
       "      <td>AGO</td>\n",
       "      <td>0.333333</td>\n",
       "      <td>Africa</td>\n",
       "    </tr>\n",
       "  </tbody>\n",
       "</table>\n",
       "</div>"
      ],
      "text/plain": [
       "                       Country  Year      Arrivals  Departures Country_code  \\\n",
       "0                        Aruba  1995  9.120000e+05         NaN          ABW   \n",
       "1  Africa Eastern and Southern  1995  1.158354e+07         NaN          AFE   \n",
       "2                  Afghanistan  1995           NaN         NaN          AFG   \n",
       "3   Africa Western and Central  1995  2.670706e+06         NaN          AFW   \n",
       "4                       Angola  1995  9.000000e+03      3000.0          AGO   \n",
       "\n",
       "   DA_Ratio      Continent  \n",
       "0       NaN  North America  \n",
       "1       NaN           None  \n",
       "2       NaN           Asia  \n",
       "3       NaN           None  \n",
       "4  0.333333         Africa  "
      ]
     },
     "execution_count": 51,
     "metadata": {},
     "output_type": "execute_result"
    }
   ],
   "source": [
    "arr_depart.head()"
   ]
  },
  {
   "cell_type": "code",
   "execution_count": 52,
   "metadata": {},
   "outputs": [
    {
     "data": {
      "text/plain": [
       "array(['North America', None, 'Asia', 'Africa', 'Europe', 'South America',\n",
       "       'Oceania'], dtype=object)"
      ]
     },
     "execution_count": 52,
     "metadata": {},
     "output_type": "execute_result"
    }
   ],
   "source": [
    "arr_depart['Continent'].unique()"
   ]
  },
  {
   "cell_type": "code",
   "execution_count": 53,
   "metadata": {},
   "outputs": [
    {
     "data": {
      "text/plain": [
       "(6916, 7)"
      ]
     },
     "execution_count": 53,
     "metadata": {},
     "output_type": "execute_result"
    }
   ],
   "source": [
    "arr_depart.shape"
   ]
  },
  {
   "cell_type": "markdown",
   "metadata": {},
   "source": [
    "There are some regions included in the data we downloaded, so it is expected that there will be rows that do not match to a specific continent. Since they're not countries, we want to drop them."
   ]
  },
  {
   "cell_type": "code",
   "execution_count": 54,
   "metadata": {},
   "outputs": [
    {
     "data": {
      "text/plain": [
       "(5538, 7)"
      ]
     },
     "execution_count": 54,
     "metadata": {},
     "output_type": "execute_result"
    }
   ],
   "source": [
    "# Drop rows that cannot be matched to a continent\n",
    "final = arr_depart.dropna(subset=['Continent'])\n",
    "final.shape"
   ]
  },
  {
   "cell_type": "code",
   "execution_count": 55,
   "metadata": {},
   "outputs": [
    {
     "name": "stderr",
     "output_type": "stream",
     "text": [
      "/var/folders/62/f84_mp192073x9pd72l46fth0000gn/T/ipykernel_42821/1742644629.py:2: SettingWithCopyWarning: \n",
      "A value is trying to be set on a copy of a slice from a DataFrame.\n",
      "Try using .loc[row_indexer,col_indexer] = value instead\n",
      "\n",
      "See the caveats in the documentation: https://pandas.pydata.org/pandas-docs/stable/user_guide/indexing.html#returning-a-view-versus-a-copy\n",
      "  final['Continent'] = final['Continent'].apply(lambda x: 'America' if 'America' in x else x)\n"
     ]
    }
   ],
   "source": [
    "# Combine the Americas (North and South America should count as one category)\n",
    "final['Continent'] = final['Continent'].apply(lambda x: 'America' if 'America' in x else x)"
   ]
  },
  {
   "cell_type": "code",
   "execution_count": 56,
   "metadata": {},
   "outputs": [
    {
     "data": {
      "text/html": [
       "<div>\n",
       "<style scoped>\n",
       "    .dataframe tbody tr th:only-of-type {\n",
       "        vertical-align: middle;\n",
       "    }\n",
       "\n",
       "    .dataframe tbody tr th {\n",
       "        vertical-align: top;\n",
       "    }\n",
       "\n",
       "    .dataframe thead th {\n",
       "        text-align: right;\n",
       "    }\n",
       "</style>\n",
       "<table border=\"1\" class=\"dataframe\">\n",
       "  <thead>\n",
       "    <tr style=\"text-align: right;\">\n",
       "      <th></th>\n",
       "      <th>Country</th>\n",
       "      <th>Year</th>\n",
       "      <th>Arrivals</th>\n",
       "      <th>Departures</th>\n",
       "      <th>Country_code</th>\n",
       "      <th>DA_Ratio</th>\n",
       "      <th>Continent</th>\n",
       "    </tr>\n",
       "  </thead>\n",
       "  <tbody>\n",
       "    <tr>\n",
       "      <th>0</th>\n",
       "      <td>Aruba</td>\n",
       "      <td>1995</td>\n",
       "      <td>912000.0</td>\n",
       "      <td>NaN</td>\n",
       "      <td>ABW</td>\n",
       "      <td>NaN</td>\n",
       "      <td>America</td>\n",
       "    </tr>\n",
       "    <tr>\n",
       "      <th>2</th>\n",
       "      <td>Afghanistan</td>\n",
       "      <td>1995</td>\n",
       "      <td>NaN</td>\n",
       "      <td>NaN</td>\n",
       "      <td>AFG</td>\n",
       "      <td>NaN</td>\n",
       "      <td>Asia</td>\n",
       "    </tr>\n",
       "    <tr>\n",
       "      <th>4</th>\n",
       "      <td>Angola</td>\n",
       "      <td>1995</td>\n",
       "      <td>9000.0</td>\n",
       "      <td>3000.0</td>\n",
       "      <td>AGO</td>\n",
       "      <td>0.333333</td>\n",
       "      <td>Africa</td>\n",
       "    </tr>\n",
       "    <tr>\n",
       "      <th>5</th>\n",
       "      <td>Albania</td>\n",
       "      <td>1995</td>\n",
       "      <td>304000.0</td>\n",
       "      <td>NaN</td>\n",
       "      <td>ALB</td>\n",
       "      <td>NaN</td>\n",
       "      <td>Europe</td>\n",
       "    </tr>\n",
       "    <tr>\n",
       "      <th>6</th>\n",
       "      <td>Andorra</td>\n",
       "      <td>1995</td>\n",
       "      <td>NaN</td>\n",
       "      <td>NaN</td>\n",
       "      <td>AND</td>\n",
       "      <td>NaN</td>\n",
       "      <td>Europe</td>\n",
       "    </tr>\n",
       "  </tbody>\n",
       "</table>\n",
       "</div>"
      ],
      "text/plain": [
       "       Country  Year  Arrivals  Departures Country_code  DA_Ratio Continent\n",
       "0        Aruba  1995  912000.0         NaN          ABW       NaN   America\n",
       "2  Afghanistan  1995       NaN         NaN          AFG       NaN      Asia\n",
       "4       Angola  1995    9000.0      3000.0          AGO  0.333333    Africa\n",
       "5      Albania  1995  304000.0         NaN          ALB       NaN    Europe\n",
       "6      Andorra  1995       NaN         NaN          AND       NaN    Europe"
      ]
     },
     "execution_count": 56,
     "metadata": {},
     "output_type": "execute_result"
    }
   ],
   "source": [
    "final.head()"
   ]
  },
  {
   "cell_type": "markdown",
   "metadata": {},
   "source": [
    "Check datatypes of each column."
   ]
  },
  {
   "cell_type": "code",
   "execution_count": 57,
   "metadata": {},
   "outputs": [
    {
     "data": {
      "text/plain": [
       "Country          object\n",
       "Year             object\n",
       "Arrivals        float64\n",
       "Departures      float64\n",
       "Country_code     object\n",
       "DA_Ratio        float64\n",
       "Continent        object\n",
       "dtype: object"
      ]
     },
     "execution_count": 57,
     "metadata": {},
     "output_type": "execute_result"
    }
   ],
   "source": [
    "final.dtypes"
   ]
  },
  {
   "cell_type": "markdown",
   "metadata": {},
   "source": [
    "Column 'Year' is an object, change it to integer instead."
   ]
  },
  {
   "cell_type": "code",
   "execution_count": 58,
   "metadata": {},
   "outputs": [
    {
     "name": "stderr",
     "output_type": "stream",
     "text": [
      "/var/folders/62/f84_mp192073x9pd72l46fth0000gn/T/ipykernel_42821/3691554115.py:1: SettingWithCopyWarning: \n",
      "A value is trying to be set on a copy of a slice from a DataFrame.\n",
      "Try using .loc[row_indexer,col_indexer] = value instead\n",
      "\n",
      "See the caveats in the documentation: https://pandas.pydata.org/pandas-docs/stable/user_guide/indexing.html#returning-a-view-versus-a-copy\n",
      "  final['Year'] = pd.to_numeric(final['Year'])\n"
     ]
    }
   ],
   "source": [
    "final['Year'] = pd.to_numeric(final['Year'])"
   ]
  },
  {
   "cell_type": "markdown",
   "metadata": {},
   "source": [
    "Output the file as JSON so d3 can read in data"
   ]
  },
  {
   "cell_type": "code",
   "execution_count": 59,
   "metadata": {},
   "outputs": [],
   "source": [
    "final.to_json('data/tourism/tourism_arr_dep.json', orient='records')"
   ]
  },
  {
   "cell_type": "code",
   "execution_count": 13,
   "metadata": {},
   "outputs": [],
   "source": [
    "final = pd.read_json('data/tourism/tourism_arr_dep.json')"
   ]
  },
  {
   "cell_type": "code",
   "execution_count": 15,
   "metadata": {},
   "outputs": [
    {
     "data": {
      "text/html": [
       "<div>\n",
       "<style scoped>\n",
       "    .dataframe tbody tr th:only-of-type {\n",
       "        vertical-align: middle;\n",
       "    }\n",
       "\n",
       "    .dataframe tbody tr th {\n",
       "        vertical-align: top;\n",
       "    }\n",
       "\n",
       "    .dataframe thead th {\n",
       "        text-align: right;\n",
       "    }\n",
       "</style>\n",
       "<table border=\"1\" class=\"dataframe\">\n",
       "  <thead>\n",
       "    <tr style=\"text-align: right;\">\n",
       "      <th></th>\n",
       "      <th>Country</th>\n",
       "      <th>Year</th>\n",
       "      <th>Arrivals</th>\n",
       "      <th>Departures</th>\n",
       "      <th>DA_Ratio</th>\n",
       "      <th>Continent</th>\n",
       "    </tr>\n",
       "  </thead>\n",
       "  <tbody>\n",
       "    <tr>\n",
       "      <th>183</th>\n",
       "      <td>United States</td>\n",
       "      <td>1995</td>\n",
       "      <td>7.973200e+07</td>\n",
       "      <td>7.403100e+07</td>\n",
       "      <td>0.928498</td>\n",
       "      <td>America</td>\n",
       "    </tr>\n",
       "    <tr>\n",
       "      <th>376</th>\n",
       "      <td>United States</td>\n",
       "      <td>1996</td>\n",
       "      <td>8.275600e+07</td>\n",
       "      <td>7.680300e+07</td>\n",
       "      <td>0.928066</td>\n",
       "      <td>America</td>\n",
       "    </tr>\n",
       "    <tr>\n",
       "      <th>569</th>\n",
       "      <td>United States</td>\n",
       "      <td>1997</td>\n",
       "      <td>8.252500e+07</td>\n",
       "      <td>7.848100e+07</td>\n",
       "      <td>0.950997</td>\n",
       "      <td>America</td>\n",
       "    </tr>\n",
       "    <tr>\n",
       "      <th>762</th>\n",
       "      <td>United States</td>\n",
       "      <td>1998</td>\n",
       "      <td>7.476700e+07</td>\n",
       "      <td>8.275800e+07</td>\n",
       "      <td>1.106879</td>\n",
       "      <td>America</td>\n",
       "    </tr>\n",
       "    <tr>\n",
       "      <th>955</th>\n",
       "      <td>United States</td>\n",
       "      <td>1999</td>\n",
       "      <td>7.579600e+07</td>\n",
       "      <td>8.454000e+07</td>\n",
       "      <td>1.115362</td>\n",
       "      <td>America</td>\n",
       "    </tr>\n",
       "    <tr>\n",
       "      <th>1148</th>\n",
       "      <td>United States</td>\n",
       "      <td>2000</td>\n",
       "      <td>7.834300e+07</td>\n",
       "      <td>8.797300e+07</td>\n",
       "      <td>1.122921</td>\n",
       "      <td>America</td>\n",
       "    </tr>\n",
       "    <tr>\n",
       "      <th>1341</th>\n",
       "      <td>United States</td>\n",
       "      <td>2001</td>\n",
       "      <td>7.097500e+07</td>\n",
       "      <td>8.475500e+07</td>\n",
       "      <td>1.194153</td>\n",
       "      <td>America</td>\n",
       "    </tr>\n",
       "    <tr>\n",
       "      <th>1534</th>\n",
       "      <td>United States</td>\n",
       "      <td>2002</td>\n",
       "      <td>6.443400e+07</td>\n",
       "      <td>8.088300e+07</td>\n",
       "      <td>1.255284</td>\n",
       "      <td>America</td>\n",
       "    </tr>\n",
       "    <tr>\n",
       "      <th>1727</th>\n",
       "      <td>United States</td>\n",
       "      <td>2003</td>\n",
       "      <td>6.208200e+07</td>\n",
       "      <td>7.588000e+07</td>\n",
       "      <td>1.222254</td>\n",
       "      <td>America</td>\n",
       "    </tr>\n",
       "    <tr>\n",
       "      <th>1920</th>\n",
       "      <td>United States</td>\n",
       "      <td>2004</td>\n",
       "      <td>6.760600e+07</td>\n",
       "      <td>7.965500e+07</td>\n",
       "      <td>1.178224</td>\n",
       "      <td>America</td>\n",
       "    </tr>\n",
       "    <tr>\n",
       "      <th>2113</th>\n",
       "      <td>United States</td>\n",
       "      <td>2005</td>\n",
       "      <td>7.148400e+07</td>\n",
       "      <td>7.921500e+07</td>\n",
       "      <td>1.108150</td>\n",
       "      <td>America</td>\n",
       "    </tr>\n",
       "    <tr>\n",
       "      <th>2306</th>\n",
       "      <td>United States</td>\n",
       "      <td>2006</td>\n",
       "      <td>1.831780e+08</td>\n",
       "      <td>1.485110e+08</td>\n",
       "      <td>0.810747</td>\n",
       "      <td>America</td>\n",
       "    </tr>\n",
       "    <tr>\n",
       "      <th>2499</th>\n",
       "      <td>United States</td>\n",
       "      <td>2007</td>\n",
       "      <td>1.752990e+08</td>\n",
       "      <td>1.403640e+08</td>\n",
       "      <td>0.800712</td>\n",
       "      <td>America</td>\n",
       "    </tr>\n",
       "    <tr>\n",
       "      <th>2692</th>\n",
       "      <td>United States</td>\n",
       "      <td>2008</td>\n",
       "      <td>1.757030e+08</td>\n",
       "      <td>1.361480e+08</td>\n",
       "      <td>0.774876</td>\n",
       "      <td>America</td>\n",
       "    </tr>\n",
       "    <tr>\n",
       "      <th>2885</th>\n",
       "      <td>United States</td>\n",
       "      <td>2009</td>\n",
       "      <td>1.605080e+08</td>\n",
       "      <td>1.299540e+08</td>\n",
       "      <td>0.809642</td>\n",
       "      <td>America</td>\n",
       "    </tr>\n",
       "    <tr>\n",
       "      <th>3078</th>\n",
       "      <td>United States</td>\n",
       "      <td>2010</td>\n",
       "      <td>1.622750e+08</td>\n",
       "      <td>1.215740e+08</td>\n",
       "      <td>0.749185</td>\n",
       "      <td>America</td>\n",
       "    </tr>\n",
       "    <tr>\n",
       "      <th>3271</th>\n",
       "      <td>United States</td>\n",
       "      <td>2011</td>\n",
       "      <td>1.472714e+08</td>\n",
       "      <td>1.140890e+08</td>\n",
       "      <td>0.774685</td>\n",
       "      <td>America</td>\n",
       "    </tr>\n",
       "    <tr>\n",
       "      <th>3464</th>\n",
       "      <td>United States</td>\n",
       "      <td>2012</td>\n",
       "      <td>1.716299e+08</td>\n",
       "      <td>1.163290e+08</td>\n",
       "      <td>0.677790</td>\n",
       "      <td>America</td>\n",
       "    </tr>\n",
       "    <tr>\n",
       "      <th>3657</th>\n",
       "      <td>United States</td>\n",
       "      <td>2013</td>\n",
       "      <td>1.793099e+08</td>\n",
       "      <td>1.189680e+08</td>\n",
       "      <td>0.663477</td>\n",
       "      <td>America</td>\n",
       "    </tr>\n",
       "    <tr>\n",
       "      <th>3850</th>\n",
       "      <td>United States</td>\n",
       "      <td>2014</td>\n",
       "      <td>1.783114e+08</td>\n",
       "      <td>1.216990e+08</td>\n",
       "      <td>0.682508</td>\n",
       "      <td>America</td>\n",
       "    </tr>\n",
       "    <tr>\n",
       "      <th>4043</th>\n",
       "      <td>United States</td>\n",
       "      <td>2015</td>\n",
       "      <td>1.768645e+08</td>\n",
       "      <td>1.303640e+08</td>\n",
       "      <td>0.737084</td>\n",
       "      <td>America</td>\n",
       "    </tr>\n",
       "    <tr>\n",
       "      <th>4236</th>\n",
       "      <td>United States</td>\n",
       "      <td>2016</td>\n",
       "      <td>1.752615e+08</td>\n",
       "      <td>1.415260e+08</td>\n",
       "      <td>0.807513</td>\n",
       "      <td>America</td>\n",
       "    </tr>\n",
       "    <tr>\n",
       "      <th>4429</th>\n",
       "      <td>United States</td>\n",
       "      <td>2017</td>\n",
       "      <td>1.742918e+08</td>\n",
       "      <td>1.480450e+08</td>\n",
       "      <td>0.849409</td>\n",
       "      <td>America</td>\n",
       "    </tr>\n",
       "    <tr>\n",
       "      <th>4622</th>\n",
       "      <td>United States</td>\n",
       "      <td>2018</td>\n",
       "      <td>1.693249e+08</td>\n",
       "      <td>1.584454e+08</td>\n",
       "      <td>0.935748</td>\n",
       "      <td>America</td>\n",
       "    </tr>\n",
       "    <tr>\n",
       "      <th>4815</th>\n",
       "      <td>United States</td>\n",
       "      <td>2019</td>\n",
       "      <td>1.654780e+08</td>\n",
       "      <td>1.709301e+08</td>\n",
       "      <td>1.032948</td>\n",
       "      <td>America</td>\n",
       "    </tr>\n",
       "    <tr>\n",
       "      <th>5008</th>\n",
       "      <td>United States</td>\n",
       "      <td>2020</td>\n",
       "      <td>4.503700e+07</td>\n",
       "      <td>6.054990e+07</td>\n",
       "      <td>1.344448</td>\n",
       "      <td>America</td>\n",
       "    </tr>\n",
       "  </tbody>\n",
       "</table>\n",
       "</div>"
      ],
      "text/plain": [
       "            Country  Year      Arrivals    Departures  DA_Ratio Continent\n",
       "183   United States  1995  7.973200e+07  7.403100e+07  0.928498   America\n",
       "376   United States  1996  8.275600e+07  7.680300e+07  0.928066   America\n",
       "569   United States  1997  8.252500e+07  7.848100e+07  0.950997   America\n",
       "762   United States  1998  7.476700e+07  8.275800e+07  1.106879   America\n",
       "955   United States  1999  7.579600e+07  8.454000e+07  1.115362   America\n",
       "1148  United States  2000  7.834300e+07  8.797300e+07  1.122921   America\n",
       "1341  United States  2001  7.097500e+07  8.475500e+07  1.194153   America\n",
       "1534  United States  2002  6.443400e+07  8.088300e+07  1.255284   America\n",
       "1727  United States  2003  6.208200e+07  7.588000e+07  1.222254   America\n",
       "1920  United States  2004  6.760600e+07  7.965500e+07  1.178224   America\n",
       "2113  United States  2005  7.148400e+07  7.921500e+07  1.108150   America\n",
       "2306  United States  2006  1.831780e+08  1.485110e+08  0.810747   America\n",
       "2499  United States  2007  1.752990e+08  1.403640e+08  0.800712   America\n",
       "2692  United States  2008  1.757030e+08  1.361480e+08  0.774876   America\n",
       "2885  United States  2009  1.605080e+08  1.299540e+08  0.809642   America\n",
       "3078  United States  2010  1.622750e+08  1.215740e+08  0.749185   America\n",
       "3271  United States  2011  1.472714e+08  1.140890e+08  0.774685   America\n",
       "3464  United States  2012  1.716299e+08  1.163290e+08  0.677790   America\n",
       "3657  United States  2013  1.793099e+08  1.189680e+08  0.663477   America\n",
       "3850  United States  2014  1.783114e+08  1.216990e+08  0.682508   America\n",
       "4043  United States  2015  1.768645e+08  1.303640e+08  0.737084   America\n",
       "4236  United States  2016  1.752615e+08  1.415260e+08  0.807513   America\n",
       "4429  United States  2017  1.742918e+08  1.480450e+08  0.849409   America\n",
       "4622  United States  2018  1.693249e+08  1.584454e+08  0.935748   America\n",
       "4815  United States  2019  1.654780e+08  1.709301e+08  1.032948   America\n",
       "5008  United States  2020  4.503700e+07  6.054990e+07  1.344448   America"
      ]
     },
     "execution_count": 15,
     "metadata": {},
     "output_type": "execute_result"
    }
   ],
   "source": [
    "final[final['Country'] == 'United States']"
   ]
  },
  {
   "cell_type": "code",
   "execution_count": 21,
   "metadata": {},
   "outputs": [
    {
     "data": {
      "text/plain": [
       "count    67.000000\n",
       "mean      0.934644\n",
       "std       0.823490\n",
       "min       0.031377\n",
       "25%       0.276920\n",
       "50%       0.706881\n",
       "75%       1.376155\n",
       "max       3.326730\n",
       "Name: DA_Ratio, dtype: float64"
      ]
     },
     "execution_count": 21,
     "metadata": {},
     "output_type": "execute_result"
    }
   ],
   "source": [
    "final[final['Year'] == 2020]['DA_Ratio'].describe()"
   ]
  },
  {
   "cell_type": "code",
   "execution_count": null,
   "metadata": {},
   "outputs": [],
   "source": []
  }
 ],
 "metadata": {
  "kernelspec": {
   "display_name": "base",
   "language": "python",
   "name": "python3"
  },
  "language_info": {
   "codemirror_mode": {
    "name": "ipython",
    "version": 3
   },
   "file_extension": ".py",
   "mimetype": "text/x-python",
   "name": "python",
   "nbconvert_exporter": "python",
   "pygments_lexer": "ipython3",
   "version": "3.9.15"
  }
 },
 "nbformat": 4,
 "nbformat_minor": 2
}
