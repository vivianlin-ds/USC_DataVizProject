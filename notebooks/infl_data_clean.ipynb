{
 "cells": [
  {
   "cell_type": "markdown",
   "id": "29fdc70c",
   "metadata": {},
   "source": [
    "Libraries"
   ]
  },
  {
   "cell_type": "code",
   "execution_count": 1,
   "id": "34bb26b4",
   "metadata": {},
   "outputs": [],
   "source": [
    "import pandas as pd\n",
    "import numpy as np\n",
    "import os\n",
    "import json"
   ]
  },
  {
   "cell_type": "markdown",
   "id": "f3debd1b",
   "metadata": {},
   "source": [
    "Combining csv files for tourism data"
   ]
  },
  {
   "cell_type": "code",
   "execution_count": 2,
   "metadata": {},
   "outputs": [],
   "source": [
    "years = [str(i) for i in range(1995, 2021)] # years we are merging"
   ]
  },
  {
   "cell_type": "code",
   "execution_count": 3,
   "metadata": {},
   "outputs": [],
   "source": [
    "dfs = pd.read_excel('../../data/inflation/Inflation-data.xlsx', sheet_name=['hcpi_a', 'ecpi_a', 'fcpi_a', 'ccpi_a', 'ppi_a', 'def_a', 'ccpi_a_e'])\n",
    "for idx, df in dfs.items():\n",
    "    dfs[idx] = df[['Country', 'Country Code', 'Series Name'] + [int(x) for x in years]]"
   ]
  },
  {
   "cell_type": "code",
   "execution_count": 4,
   "metadata": {},
   "outputs": [
    {
     "name": "stderr",
     "output_type": "stream",
     "text": [
      "C:\\Users\\abrun\\AppData\\Local\\Temp\\ipykernel_18332\\1321504140.py:6: SettingWithCopyWarning: \n",
      "A value is trying to be set on a copy of a slice from a DataFrame.\n",
      "Try using .loc[row_indexer,col_indexer] = value instead\n",
      "\n",
      "See the caveats in the documentation: https://pandas.pydata.org/pandas-docs/stable/user_guide/indexing.html#returning-a-view-versus-a-copy\n",
      "  df[include] = df[include].fillna('null')\n",
      "C:\\Users\\abrun\\AppData\\Local\\Temp\\ipykernel_18332\\1321504140.py:6: SettingWithCopyWarning: \n",
      "A value is trying to be set on a copy of a slice from a DataFrame.\n",
      "Try using .loc[row_indexer,col_indexer] = value instead\n",
      "\n",
      "See the caveats in the documentation: https://pandas.pydata.org/pandas-docs/stable/user_guide/indexing.html#returning-a-view-versus-a-copy\n",
      "  df[include] = df[include].fillna('null')\n",
      "C:\\Users\\abrun\\AppData\\Local\\Temp\\ipykernel_18332\\1321504140.py:6: SettingWithCopyWarning: \n",
      "A value is trying to be set on a copy of a slice from a DataFrame.\n",
      "Try using .loc[row_indexer,col_indexer] = value instead\n",
      "\n",
      "See the caveats in the documentation: https://pandas.pydata.org/pandas-docs/stable/user_guide/indexing.html#returning-a-view-versus-a-copy\n",
      "  df[include] = df[include].fillna('null')\n",
      "C:\\Users\\abrun\\AppData\\Local\\Temp\\ipykernel_18332\\1321504140.py:6: SettingWithCopyWarning: \n",
      "A value is trying to be set on a copy of a slice from a DataFrame.\n",
      "Try using .loc[row_indexer,col_indexer] = value instead\n",
      "\n",
      "See the caveats in the documentation: https://pandas.pydata.org/pandas-docs/stable/user_guide/indexing.html#returning-a-view-versus-a-copy\n",
      "  df[include] = df[include].fillna('null')\n",
      "C:\\Users\\abrun\\AppData\\Local\\Temp\\ipykernel_18332\\1321504140.py:6: SettingWithCopyWarning: \n",
      "A value is trying to be set on a copy of a slice from a DataFrame.\n",
      "Try using .loc[row_indexer,col_indexer] = value instead\n",
      "\n",
      "See the caveats in the documentation: https://pandas.pydata.org/pandas-docs/stable/user_guide/indexing.html#returning-a-view-versus-a-copy\n",
      "  df[include] = df[include].fillna('null')\n"
     ]
    }
   ],
   "source": [
    "def convert_df_json(df, filename):\n",
    "\n",
    "    df = df[~(df['Country'].isna())] # removing nan country values\n",
    "\n",
    "    include = [int(x) for x in years]\n",
    "    df[include] = df[include].fillna('null')\n",
    "    inflation_data = {}\n",
    "\n",
    "    for index, row in df.iterrows():\n",
    "        country_code = row['Country Code']\n",
    "        inflation_data[country_code] = row.drop(['Country Code', 'Series Name', 'Country']).to_dict()\n",
    "\n",
    "    # Write JSON to File\n",
    "    with open(f'inflation_files/{filename}.json', 'w') as json_file:\n",
    "        json.dump(inflation_data, json_file)\n",
    "\n",
    "convert_df_json(dfs['hcpi_a'], 'chloropleth_data')\n",
    "convert_df_json(dfs['ccpi_a'], 'ccpi')\n",
    "convert_df_json(dfs['fcpi_a'], 'fcpi')\n",
    "convert_df_json(dfs['ecpi_a'], 'ecpi')\n",
    "convert_df_json(dfs['ppi_a'], 'ppi')"
   ]
  },
  {
   "cell_type": "code",
   "execution_count": 5,
   "metadata": {},
   "outputs": [
    {
     "name": "stdout",
     "output_type": "stream",
     "text": [
      "hcpi_a\n",
      "ecpi_a\n",
      "fcpi_a\n",
      "ccpi_a\n",
      "ppi_a\n",
      "def_a\n",
      "ccpi_a_e\n"
     ]
    }
   ],
   "source": [
    "for idx, data in dfs.items():\n",
    "    print(idx)"
   ]
  },
  {
   "cell_type": "code",
   "execution_count": 12,
   "metadata": {},
   "outputs": [
    {
     "data": {
      "text/html": [
       "<div>\n",
       "<style scoped>\n",
       "    .dataframe tbody tr th:only-of-type {\n",
       "        vertical-align: middle;\n",
       "    }\n",
       "\n",
       "    .dataframe tbody tr th {\n",
       "        vertical-align: top;\n",
       "    }\n",
       "\n",
       "    .dataframe thead th {\n",
       "        text-align: right;\n",
       "    }\n",
       "</style>\n",
       "<table border=\"1\" class=\"dataframe\">\n",
       "  <thead>\n",
       "    <tr style=\"text-align: right;\">\n",
       "      <th></th>\n",
       "      <th>1995</th>\n",
       "      <th>2020</th>\n",
       "      <th>pct_change</th>\n",
       "    </tr>\n",
       "  </thead>\n",
       "  <tbody>\n",
       "    <tr>\n",
       "      <th>0</th>\n",
       "      <td>56.244303</td>\n",
       "      <td>104.666842</td>\n",
       "      <td>86.093233</td>\n",
       "    </tr>\n",
       "  </tbody>\n",
       "</table>\n",
       "</div>"
      ],
      "text/plain": [
       "        1995        2020  pct_change\n",
       "0  56.244303  104.666842   86.093233"
      ]
     },
     "execution_count": 12,
     "metadata": {},
     "output_type": "execute_result"
    }
   ],
   "source": [
    "average_1995 = dfs['hcpi_a'][1995].mean()\n",
    "average_2020 = dfs['hcpi_a'][2020].mean()\n",
    "percent_change = ((average_2020 - average_1995) / average_1995) * 100\n",
    "\n",
    "result_df = pd.DataFrame({\n",
    "    '1995': [average_1995],\n",
    "    '2020': [average_2020],\n",
    "    'pct_change': [percent_change]\n",
    "})\n",
    "\n",
    "# ADD THIS ONCE FILE STRUCTURE IS FIXED result_df.to_csv()"
   ]
  },
  {
   "cell_type": "code",
   "execution_count": null,
   "metadata": {},
   "outputs": [],
   "source": []
  }
 ],
 "metadata": {
  "kernelspec": {
   "display_name": "Python 3 (ipykernel)",
   "language": "python",
   "name": "python3"
  },
  "language_info": {
   "codemirror_mode": {
    "name": "ipython",
    "version": 3
   },
   "file_extension": ".py",
   "mimetype": "text/x-python",
   "name": "python",
   "nbconvert_exporter": "python",
   "pygments_lexer": "ipython3",
   "version": "3.9.13"
  }
 },
 "nbformat": 4,
 "nbformat_minor": 5
}
